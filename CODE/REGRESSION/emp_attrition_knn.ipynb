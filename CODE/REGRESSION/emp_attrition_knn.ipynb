{
 "cells": [
  {
   "cell_type": "code",
   "execution_count": null,
   "id": "49087344",
   "metadata": {},
   "outputs": [],
   "source": [
    "import numpy as np\n",
    "import pandas as pd\n",
    "import matplotlib.pyplot as plt\n",
    "\n",
    "from sklearn.model_selection import train_test_split\n",
    "from sklearn.preprocessing import LabelEncoder, StandardScaler\n",
    "from sklearn.neighbors import KNeighborsClassifier\n",
    "from sklearn.metrics import accuracy_score, classification_report\n",
    "\n",
    "##IMPORT DATA read file\n",
    "att_data = pd.read_csv(\"/content/employee_att_knn.csv\")\n",
    "df = pd.DataFrame(att_data)\n",
    "print(df)\n",
    "\n",
    "# Encode job role using encoder\n",
    "lab_encoder = LabelEncoder()\n",
    "df[\"JobRole\"] = lab_encoder.fit_transform(df[\"JobRole\"])\n",
    "\n",
    "#data pre processing\n",
    "x = df.drop(\"Attrition\", axis=1)\n",
    "y = df[\"Attrition\"]\n",
    "\n",
    "# standardise the feature\n",
    "scalar_data = StandardScaler()\n",
    "x_scaled = scalar_data.fit_transform(x)\n",
    "\n",
    "##splitting the datasets into the training set and test set\n",
    "x_train,x_test,y_train,y_test=train_test_split(x,y,test_size=0.25,random_state=42)\n",
    "\n",
    "##implement model\n",
    "knn = KNeighborsClassifier(n_neighbors=3)\n",
    "knn.fit(x_train,y_train)\n",
    "\n",
    "#predict the model\n",
    "y_pred=knn.predict(x_test)\n",
    "\n",
    "#model accuracy\n",
    "acc = accuracy_score(y_test,y_pred)\n",
    "report = classification_report(y_test,y_pred)\n",
    "\n",
    "print(\"Accuracy:\",acc)\n",
    "print(\"Classification report\", report)"
   ]
  }
 ],
 "metadata": {
  "language_info": {
   "name": "python"
  }
 },
 "nbformat": 4,
 "nbformat_minor": 5
}
