{
 "cells": [
  {
   "cell_type": "code",
   "execution_count": null,
   "id": "9ced97a3",
   "metadata": {},
   "outputs": [],
   "source": [
    "import numpy as np #numerical operations\n",
    "import pandas as pd #importing the data from file\n",
    "import matplotlib.pyplot as plt #lib for data representation\n",
    "\n",
    "#Read dataset or csv file\n",
    "dataset = pd.read_csv('/content/salarydata.csv')\n",
    "#print(dataset)\n",
    "\n",
    "#Extract data as column and rows, ensure extracting colum as 1D array,\n",
    "#then regr_obj.fit(x_train,y_train) will  give error\n",
    "x=dataset.iloc[:,:-1].values #[: all rows, : -1 all column except last]\n",
    "y=dataset.iloc[:,-1].values #[: all rows, -1 only last column]\n",
    "\n",
    "print(x)\n",
    "print(y)\n",
    "\n",
    "##splitting the datasets into the training set and test set\n",
    "#sklearn is sci kit learn open source ML Lib for Python\n",
    "from sklearn.model_selection import train_test_split\n",
    "x_train,x_test,y_train,y_test=train_test_split(x,y,test_size=1/5,random_state=42)\n",
    "\n",
    "#implement model\n",
    "from sklearn.linear_model import LinearRegression\n",
    "regr_obj=LinearRegression()\n",
    "regr_obj1=LinearRegression()\n",
    "regr_obj.fit(x_train,y_train)\n",
    "regr_obj1.fit(x,y)\n",
    "\n",
    "#Predicting the test result\n",
    "years=float(input(\"Enter years of exp\"))\n",
    "testinput=[[years]] #this is data frame, it is diff from data, it is required by model\n",
    "\n",
    "predicted_output=regr_obj.predict(testinput)\n",
    "predicted_output1=regr_obj1.predict(testinput)\n",
    "print(\"predicted output\", predicted_output)\n",
    "\n",
    "#graphical representation of data\n",
    "plt.scatter(x_train,y_train,color='red')\n",
    "plt.plot(x_train, regr_obj.predict(x_train), color='blue')\n",
    "plt.title(\"Salary vs Experience\")\n",
    "plt.xlabel(\"Experience\")\n",
    "plt.ylabel(\"Salary\")\n",
    "plt.show()"
   ]
  }
 ],
 "metadata": {
  "language_info": {
   "name": "python"
  }
 },
 "nbformat": 4,
 "nbformat_minor": 5
}
