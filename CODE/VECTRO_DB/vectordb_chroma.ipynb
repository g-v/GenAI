{
 "cells": [
  {
   "cell_type": "code",
   "execution_count": null,
   "id": "28a85a4a",
   "metadata": {},
   "outputs": [],
   "source": [
    "# Define a vector using a Python list\n",
    "vector = [1, 2, 3, 4, 5]\n",
    "print(f\"Vector: {vector}\")"
   ]
  },
  {
   "cell_type": "code",
   "execution_count": null,
   "id": "9f12280b",
   "metadata": {},
   "outputs": [],
   "source": [
    "!pip install chromadb"
   ]
  },
  {
   "cell_type": "code",
   "execution_count": null,
   "id": "b8a66dc0",
   "metadata": {},
   "outputs": [],
   "source": [
    "import chromadb\n",
    "from pprint import pprint\n",
    "\n",
    "client = chromadb.Client()\n",
    "\n",
    "collection = client.create_collection(\"all-my-documents\")\n"
   ]
  },
  {
   "cell_type": "code",
   "execution_count": null,
   "id": "efc8ad6a",
   "metadata": {},
   "outputs": [],
   "source": [
    "collection.add(\n",
    "    documents=[\n",
    "        \"This is a document about food\",\n",
    "        \"This is a document about animal's food\",\n",
    "        \"This is a document about cats and dogs\",\n",
    "    ],\n",
    "    metadatas=[{\"topic\": \"food\"}, {\"topic\": \"animal\"}, {\"topic\": \"animal\"}],\n",
    "    ids=[\"doc1\", \"docs2\", \"doc3\"],\n",
    ")"
   ]
  },
  {
   "cell_type": "code",
   "execution_count": null,
   "id": "958f68a8",
   "metadata": {},
   "outputs": [],
   "source": [
    "results = collection.query(\n",
    "    query_texts=[\"This is a query asking about pizza\"],\n",
    "    n_results=2,\n",
    ")\n",
    "pprint(results)"
   ]
  },
  {
   "cell_type": "code",
   "execution_count": null,
   "id": "de48457a",
   "metadata": {},
   "outputs": [],
   "source": [
    "results = collection.query(\n",
    "    query_texts=[\"This is a query asking about pizza\"],\n",
    "    n_results=2,\n",
    "    where={\"topic\": \"food\"},\n",
    ")\n",
    "\n",
    "pprint(results)"
   ]
  }
 ],
 "metadata": {
  "language_info": {
   "name": "python"
  }
 },
 "nbformat": 4,
 "nbformat_minor": 5
}
