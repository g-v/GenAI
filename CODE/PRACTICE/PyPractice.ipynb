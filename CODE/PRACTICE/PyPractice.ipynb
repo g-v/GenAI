{
 "cells": [
  {
   "cell_type": "markdown",
   "metadata": {
    "colab_type": "text",
    "id": "view-in-github"
   },
   "source": [
    "<a href=\"https://colab.research.google.com/github/g-v/GenAI/blob/main/CODE/PRACTICE/PyPractice.ipynb\" target=\"_parent\"><img src=\"https://colab.research.google.com/assets/colab-badge.svg\" alt=\"Open In Colab\"/></a>"
   ]
  },
  {
   "cell_type": "code",
   "execution_count": null,
   "metadata": {
    "id": "d8BBPtix8M3E"
   },
   "outputs": [],
   "source": [
    "binary_list = [1, 0, 1, 1, 0]\n",
    "\n",
    "# Convert list to binary string\n",
    "binary_string = ''.join(map(str, binary_list))\n",
    "\n",
    "# Convert binary string to integer\n",
    "binary_number = int(binary_string, 2)\n",
    "\n",
    "print(binary_string)  # Output: '10110'\n",
    "print(binary_number)  # Output: 22\n"
   ]
  },
  {
   "cell_type": "code",
   "execution_count": null,
   "metadata": {
    "id": "HwOwT3ei8-SI"
   },
   "outputs": [],
   "source": [
    "binary_list = [1, 0, 1, 1, 0]\n",
    "\n",
    "s1=''\n",
    "for i in binary_list:\n",
    "    s1=s1+str(i)\n",
    "print(s1)"
   ]
  },
  {
   "cell_type": "code",
   "execution_count": null,
   "metadata": {
    "id": "pPeEGGZT9MHH"
   },
   "outputs": [],
   "source": [
    "def squarenum(num1):\n",
    "  print(num1+1)\n",
    "\n",
    "\n",
    "v1 = squarenum(1)\n",
    "print(next(v1))"
   ]
  },
  {
   "cell_type": "code",
   "execution_count": null,
   "metadata": {
    "id": "KHggjM9nDpXk"
   },
   "outputs": [],
   "source": [
    "print(3^4)"
   ]
  },
  {
   "cell_type": "code",
   "execution_count": null,
   "metadata": {
    "id": "D1PJt7FJENlB"
   },
   "outputs": [],
   "source": [
    "round()"
   ]
  }
 ],
 "metadata": {
  "colab": {
   "authorship_tag": "ABX9TyPS8UvoSOZtAwZjz5974d5V",
   "include_colab_link": true,
   "provenance": [],
   "toc_visible": true
  },
  "kernelspec": {
   "display_name": "Python 3 (ipykernel)",
   "language": "python",
   "name": "python3"
  },
  "language_info": {
   "codemirror_mode": {
    "name": "ipython",
    "version": 3
   },
   "file_extension": ".py",
   "mimetype": "text/x-python",
   "name": "python",
   "nbconvert_exporter": "python",
   "pygments_lexer": "ipython3",
   "version": "3.11.9"
  }
 },
 "nbformat": 4,
 "nbformat_minor": 4
}
