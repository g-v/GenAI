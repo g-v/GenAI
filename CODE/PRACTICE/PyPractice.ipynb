{
  "nbformat": 4,
  "nbformat_minor": 0,
  "metadata": {
    "colab": {
      "provenance": [],
      "toc_visible": true,
      "authorship_tag": "ABX9TyPS8UvoSOZtAwZjz5974d5V",
      "include_colab_link": true
    },
    "kernelspec": {
      "name": "python3",
      "display_name": "Python 3"
    },
    "language_info": {
      "name": "python"
    }
  },
  "cells": [
    {
      "cell_type": "markdown",
      "metadata": {
        "id": "view-in-github",
        "colab_type": "text"
      },
      "source": [
        "<a href=\"https://colab.research.google.com/github/g-v/GenAI/blob/main/CODE/PRACTICE/PyPractice.ipynb\" target=\"_parent\"><img src=\"https://colab.research.google.com/assets/colab-badge.svg\" alt=\"Open In Colab\"/></a>"
      ]
    },
    {
      "cell_type": "code",
      "execution_count": null,
      "metadata": {
        "id": "d8BBPtix8M3E"
      },
      "outputs": [],
      "source": [
        "binary_list = [1, 0, 1, 1, 0]\n",
        "\n",
        "# Convert list to binary string\n",
        "binary_string = ''.join(map(str, binary_list))\n",
        "\n",
        "# Convert binary string to integer\n",
        "binary_number = int(binary_string, 2)\n",
        "\n",
        "print(binary_string)  # Output: '10110'\n",
        "print(binary_number)  # Output: 22\n"
      ]
    },
    {
      "cell_type": "code",
      "source": [
        "binary_list = [1, 0, 1, 1, 0]\n",
        "\n",
        "s1=''\n",
        "for i in binary_list:\n",
        "    s1=s1+str(i)\n",
        "print(s1)"
      ],
      "metadata": {
        "id": "HwOwT3ei8-SI"
      },
      "execution_count": null,
      "outputs": []
    },
    {
      "cell_type": "code",
      "source": [
        "def squarenum(num1):\n",
        "  print(num1+1)\n",
        "\n",
        "\n",
        "v1 = squarenum(1)\n",
        "print(next(v1))"
      ],
      "metadata": {
        "id": "pPeEGGZT9MHH"
      },
      "execution_count": null,
      "outputs": []
    },
    {
      "cell_type": "code",
      "source": [
        "print(3^4)"
      ],
      "metadata": {
        "id": "KHggjM9nDpXk"
      },
      "execution_count": null,
      "outputs": []
    },
    {
      "cell_type": "code",
      "source": [
        "round()"
      ],
      "metadata": {
        "id": "D1PJt7FJENlB"
      },
      "execution_count": null,
      "outputs": []
    }
  ]
}