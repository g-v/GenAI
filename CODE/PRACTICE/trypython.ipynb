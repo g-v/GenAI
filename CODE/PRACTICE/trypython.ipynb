{
  "nbformat": 4,
  "nbformat_minor": 0,
  "metadata": {
    "colab": {
      "provenance": [],
      "authorship_tag": "ABX9TyNeaNApq+mZQDWhKjAWbE2M",
      "include_colab_link": true
    },
    "kernelspec": {
      "name": "python3",
      "display_name": "Python 3"
    },
    "language_info": {
      "name": "python"
    }
  },
  "cells": [
    {
      "cell_type": "markdown",
      "metadata": {
        "id": "view-in-github",
        "colab_type": "text"
      },
      "source": [
        "<a href=\"https://colab.research.google.com/github/g-v/GenAI/blob/main/CODE/PRACTICE/trypython.ipynb\" target=\"_parent\"><img src=\"https://colab.research.google.com/assets/colab-badge.svg\" alt=\"Open In Colab\"/></a>"
      ]
    },
    {
      "cell_type": "code",
      "execution_count": null,
      "metadata": {
        "id": "thfV_lVGwmiA"
      },
      "outputs": [],
      "source": [
        "print(\"hi\")\n",
        "\n"
      ]
    },
    {
      "cell_type": "code",
      "source": [
        "#data output\n",
        "print(\"hi\")\n",
        "v1 = 1+2\n",
        "print(v1, \"hi\", sep=\"@\")\n"
      ],
      "metadata": {
        "id": "exDyG7g8z6mg"
      },
      "execution_count": null,
      "outputs": []
    },
    {
      "cell_type": "code",
      "source": [
        "#data input\n",
        "data_input=input(\"enter text to display\")\n",
        "print(data_input)"
      ],
      "metadata": {
        "id": "A1871mDw271I"
      },
      "execution_count": null,
      "outputs": []
    },
    {
      "cell_type": "code",
      "source": [
        "#typecast\n",
        "no1 = int(input(\"enter no1\"))\n",
        "no2 = int(input(\"enter no2\"))\n",
        "\n",
        "no3 = input(\"enter no3\")\n",
        "no4 = input(\"enter no4\")\n",
        "\n",
        "print(no1/no2)\n",
        "print(no3+no4)\n"
      ],
      "metadata": {
        "id": "7aEJhe5e4A3M"
      },
      "execution_count": null,
      "outputs": []
    },
    {
      "cell_type": "code",
      "source": [
        "#operator\n",
        "#Arithmetic operator // to return int value"
      ],
      "metadata": {
        "id": "PXAjBu5f6AjX"
      },
      "execution_count": null,
      "outputs": []
    },
    {
      "cell_type": "code",
      "source": [
        "# @title Default title text\n",
        "#condition statement\n",
        "\n",
        "no1 = int(input(\"enter no1\"))\n",
        "no2 = int(input(\"enter no2\"))\n",
        "\n",
        "if no1>no2:\n",
        "  print(\"no1 is grater\", no1)\n",
        "else:\n",
        "  print(\"no1 is grater\", no2)\n",
        "\n",
        "#above code i single line\n",
        "print(\"no1 is grater\", no1) if no1>no2 else print(\"no1 is grater\", no2)"
      ],
      "metadata": {
        "id": "T9lXfjCj8I7A"
      },
      "execution_count": null,
      "outputs": []
    },
    {
      "cell_type": "code",
      "source": [
        "#string\n",
        "#slicing string\n",
        "b = \"Hello, World!\"\n",
        "print(b[2:5])\n",
        "\n",
        "#modify string\n",
        "a = \" Hello, World! \"\n",
        "print(a.upper())\n",
        "print(a.strip()) # returns \"Hello, World!\"\n",
        "print(a.replace(\"H\", \"J\"))\n",
        "print(a.split(\",\")) # returns ['Hello', ' World!']\n",
        "\n",
        "#concatenate string\n",
        "a = \"Hello\"\n",
        "b = \" World\"\n",
        "print(a+b)\n",
        "\n",
        "#Format string, introduced in Python 3.6\n",
        "age = 36\n",
        "txt = f\"My name is John, I am {age}\"\n",
        "print(txt)"
      ],
      "metadata": {
        "id": "i2inN05wfseu"
      },
      "execution_count": null,
      "outputs": []
    },
    {
      "cell_type": "markdown",
      "source": [
        "#There are four collection data types in the Python programming language:\n",
        "\n",
        "##List is a collection which is ordered and changeable. Allows duplicate members. mylist = [1, 2, 3]\n",
        "##Tuple is a collection which is ordered and unchangeable. Allows duplicate members.\n",
        "##Set is a collection which is unordered, unchangeable*, and unindexed. No duplicate members.\n",
        "##Dictionary is a collection which is ordered** and changeable. No duplicate members."
      ],
      "metadata": {
        "id": "mu_f7ojhEFOq"
      }
    },
    {
      "cell_type": "code",
      "source": [
        "from pickle import APPEND\n",
        "thislist = [\"apple\", \"banana\", \"cherry\"]\n",
        "for x in thislist:\n",
        "  print(x)\n",
        "\n",
        "mylist = []\n",
        "for x in range(0, 10):\n",
        "  mylist.append(x)\n",
        "\n",
        "print(mylist)\n",
        "\n",
        "\n",
        "\n",
        "print(mylist[::3])\n",
        "print(mylist.sort(reverse= True))\n",
        "print(mylist[4:8])\n",
        "print(mylist[-2:-8])\n",
        "print(mylist[-8:-2])\n"
      ],
      "metadata": {
        "id": "mFQf6VuZEJ5g"
      },
      "execution_count": null,
      "outputs": []
    },
    {
      "cell_type": "code",
      "source": [
        "thisset = {\"apple\", \"banana\", \"cherry\"}\n",
        "\n",
        "for x in range(1,6):\n",
        "  thisset.add(x)\n",
        "thisset.remove(2)\n",
        "\n",
        "\n",
        "print(thisset)"
      ],
      "metadata": {
        "id": "EDeFtiJIOb6j"
      },
      "execution_count": null,
      "outputs": []
    },
    {
      "cell_type": "code",
      "source": [
        "x= [i for i in range(3)]\n",
        "print(x)\n",
        "\n",
        "\n",
        "def foo(value):\n",
        "  while True:\n",
        "    value = (yield value)\n",
        "\n",
        "\n",
        "bar = foo(1)\n",
        "print(next(bar))\n",
        "print(next(bar))\n",
        "print(bar.send(2))"
      ],
      "metadata": {
        "id": "kG8zlqnnXm9H"
      },
      "execution_count": null,
      "outputs": []
    },
    {
      "cell_type": "code",
      "source": [
        "print(4+3%5)"
      ],
      "metadata": {
        "id": "xztcCFieBe0t",
        "collapsed": true
      },
      "execution_count": null,
      "outputs": []
    },
    {
      "cell_type": "code",
      "source": [
        "list1 = [\"H\", \"M\", \"L\"]\n",
        "list2 = [\"H\", \"H\", \"L\"]\n",
        "\n",
        "count1 = count2 =0\n",
        "\n",
        "for i in range(len(list1)):\n",
        "  print(list[i])\n",
        "  if list1[i] == \"H\":\n",
        "    count1 += 5\n",
        "  if list1[i] == \"M\":\n",
        "    count1 += 3\n",
        "  if list1[i] == \"L\":\n",
        "    count1 += 1\n",
        "\n",
        "for i in range(len(list2)):\n",
        "  if list2[i] == \"H\":\n",
        "    count2 += 5\n",
        "  if list2[i] == \"M\":\n",
        "    count2 += 3\n",
        "  if list2[i] == \"L\":\n",
        "    count2 += 1\n",
        "\n",
        "print(\"count1= \", count1)\n",
        "print(\"count2= \", count2)"
      ],
      "metadata": {
        "id": "FM_b5AqdDmXV"
      },
      "execution_count": null,
      "outputs": []
    },
    {
      "cell_type": "code",
      "source": [
        "apendlist = [\"apple\", \"banana\", \"cherry\"]\n",
        "apendlist.append(\"orange\")\n",
        "print(apendlist)\n",
        "\n",
        "insertlist = [\"apple\", \"banana\", \"cherry\"]\n",
        "insertlist.insert(1, \"orange\")\n",
        "print(insertlist)\n",
        "\n",
        "extendlist = [\"apple\", \"banana\", \"cherry\"]\n",
        "tropical = [\"mango\", \"pineapple\", \"papaya\"]\n",
        "extendlist.extend(tropical)\n",
        "print(extendlist)\n",
        "\n",
        "del extendlist[0]\n",
        "print(extendlist)\n",
        "\n",
        "extendlist.clear()\n",
        "print(extendlist)\n",
        "\n",
        "thislist = [\"apple\", \"banana\", \"cherry\"]\n",
        "newlist = []\n",
        "for i in range(len(thislist)):\n",
        "  newlist.insert(i, i)\n",
        "print(newlist)\n",
        "\n",
        "\n",
        "thislist.append(\"orange\")\n",
        "print(thislist)"
      ],
      "metadata": {
        "id": "bpkP35I9zjsQ"
      },
      "execution_count": null,
      "outputs": []
    },
    {
      "cell_type": "code",
      "source": [],
      "metadata": {
        "id": "P12pz-DVLso3"
      },
      "execution_count": null,
      "outputs": []
    }
  ]
}