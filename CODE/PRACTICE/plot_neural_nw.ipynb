{
 "cells": [
  {
   "cell_type": "code",
   "execution_count": null,
   "id": "3bf4faca",
   "metadata": {},
   "outputs": [],
   "source": [
    "import numpy as np\n",
    "import pandas as pd\n",
    "import matplotlib.pyplot as plt\n",
    "\n",
    "def main():\n",
    "    fig, ax = plt.subplots(figsize=(10, 8))  # Create Figure and Axes\n",
    "    ax.axis('off')\n",
    "    print(\"Diabetetes Prediction\")\n",
    "\n",
    "    #Neural network structure\n",
    "    layer_sizes = [8, 12, 8, 1]\n",
    "    draw_neural_net(ax, layer_sizes)\n",
    "\n",
    "    plt.show()\n",
    "\n",
    "\n",
    "def draw_neural_net(ax, layer_sizes):\n",
    "    left, right, bottom, top = 0.1, 0.9, 0.1, 0.9\n",
    "    v_spacing = (top-bottom)/float(max(layer_sizes))\n",
    "    h_spacing = (right-left)/float(max(layer_sizes)-1)\n",
    "\n",
    "    #draw network\n",
    "    for i, n in enumerate(layer_sizes):\n",
    "        y=np.linspace(bottom + (top-bottom)/2.0 - (n-1) * v_spacing/2.0, bottom + (top-bottom)/2.0 - (n-1) * v_spacing/2.0, n)\n",
    "        for j in range(n):\n",
    "            circle = plt.Circle((left+i*h_spacing, y[j]),v_spacing/8.0, color='white', ec='black', zorder=4)\n",
    "            ax.add_artist(circle)\n",
    "\n",
    "    #draw connection\n",
    "    for i, (n_a, n_b) in enumerate(zip(layer_sizes[:-1],layer_sizes[1:])):\n",
    "        y_a = np.linspace(bottom+ (top-bottom)/2.0 - (n_a-1)*v_spacing/2.0, bottom+ (top-bottom)/2.0 - (n_a-1)*v_spacing/2.0, n_a)\n",
    "        y_b = np.linspace(bottom+ (top-bottom)/2.0 - (n_a-1)*v_spacing/2.0, bottom+ (top-bottom)/2.0 - (n_a-1)*v_spacing/2.0, n_b)\n",
    "        for a in y_a:\n",
    "            for b in y_b:\n",
    "                line = plt.Line2D([left+i*h_spacing, left+(i+1)*h_spacing], [a,b], c='grey',alpha=0.5, zorder=1)\n",
    "                ax.add_artist(line)\n",
    "\n",
    "\n",
    "# Call the main function when the script is executed\n",
    "if __name__ == \"__main__\":\n",
    "    main()"
   ]
  }
 ],
 "metadata": {
  "language_info": {
   "name": "python"
  }
 },
 "nbformat": 4,
 "nbformat_minor": 5
}
