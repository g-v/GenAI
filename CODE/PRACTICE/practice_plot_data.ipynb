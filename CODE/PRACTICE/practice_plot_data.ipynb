{
 "cells": [
  {
   "cell_type": "markdown",
   "metadata": {
    "colab_type": "text",
    "id": "view-in-github"
   },
   "source": [
    "<a href=\"https://colab.research.google.com/github/g-v/GenAI/blob/main/CODE/PRACTICE/practice_plot_data.ipynb\" target=\"_parent\"><img src=\"https://colab.research.google.com/assets/colab-badge.svg\" alt=\"Open In Colab\"/></a>"
   ]
  },
  {
   "cell_type": "code",
   "execution_count": null,
   "metadata": {
    "id": "h4fSiiFCrDyD"
   },
   "outputs": [],
   "source": [
    "import numpy as np\n",
    "import pandas as pd\n",
    "import matplotlib.pyplot as plt\n",
    "\n",
    "##Generate random data\n",
    "np.random.seed(0)\n",
    "a=np.random.randint(1, 50, 10) + 100\n",
    "b=np.random.randint(1, 50, 10) + 50\n",
    "a=np.sort(a)\n",
    "b=np.sort(b)\n",
    "x=np.column_stack((a,b))\n",
    "y=np.random.randint(1, 20, 10) + 50\n",
    "y=np.sort(y)\n",
    "print(x)\n",
    "print(y)\n",
    "\n",
    "\n",
    "# train model\n",
    "from sklearn.linear_model import LinearRegression\n",
    "model = LinearRegression()\n",
    "model.fit(x,y)\n",
    "\n",
    "plt.scatter(x[:,0],y, color='black')\n",
    "plt.scatter(x[:,1],y, color='blue')\n",
    "plt.plot(x,model.predict(x))\n",
    "\n",
    "\n",
    "\n"
   ]
  }
 ],
 "metadata": {
  "colab": {
   "authorship_tag": "ABX9TyOsfOdp9L7jlhWlYMKzcGQi",
   "include_colab_link": true,
   "provenance": []
  },
  "kernelspec": {
   "display_name": "Python 3",
   "language": "python",
   "name": "python3"
  },
  "language_info": {
   "codemirror_mode": {
    "name": "ipython",
    "version": 3
   },
   "file_extension": ".py",
   "mimetype": "text/x-python",
   "name": "python",
   "nbconvert_exporter": "python",
   "pygments_lexer": "ipython3",
   "version": "3.11.9"
  }
 },
 "nbformat": 4,
 "nbformat_minor": 4
}
