{
  "nbformat": 4,
  "nbformat_minor": 0,
  "metadata": {
    "colab": {
      "provenance": [],
      "authorship_tag": "ABX9TyOsfOdp9L7jlhWlYMKzcGQi",
      "include_colab_link": true
    },
    "kernelspec": {
      "name": "python3",
      "display_name": "Python 3"
    },
    "language_info": {
      "name": "python"
    }
  },
  "cells": [
    {
      "cell_type": "markdown",
      "metadata": {
        "id": "view-in-github",
        "colab_type": "text"
      },
      "source": [
        "<a href=\"https://colab.research.google.com/github/g-v/GenAI/blob/main/CODE/PRACTICE/practice_plot_data.ipynb\" target=\"_parent\"><img src=\"https://colab.research.google.com/assets/colab-badge.svg\" alt=\"Open In Colab\"/></a>"
      ]
    },
    {
      "cell_type": "code",
      "execution_count": null,
      "metadata": {
        "id": "h4fSiiFCrDyD"
      },
      "outputs": [],
      "source": [
        "import numpy as np\n",
        "import pandas as pd\n",
        "import matplotlib.pyplot as plt\n",
        "\n",
        "##Generate random data\n",
        "np.random.seed(0)\n",
        "a=np.random.randint(1, 50, 10) + 100\n",
        "b=np.random.randint(1, 50, 10) + 50\n",
        "a=np.sort(a)\n",
        "b=np.sort(b)\n",
        "x=np.column_stack((a,b))\n",
        "y=np.random.randint(1, 20, 10) + 50\n",
        "y=np.sort(y)\n",
        "print(x)\n",
        "print(y)\n",
        "\n",
        "\n",
        "# train model\n",
        "from sklearn.linear_model import LinearRegression\n",
        "model = LinearRegression()\n",
        "model.fit(x,y)\n",
        "\n",
        "plt.scatter(x[:,0],y, color='black')\n",
        "plt.scatter(x[:,1],y, color='blue')\n",
        "plt.plot(x,model.predict(x))\n",
        "\n",
        "\n",
        "\n"
      ]
    }
  ]
}