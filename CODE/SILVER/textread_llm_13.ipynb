{
 "cells": [
  {
   "cell_type": "code",
   "execution_count": null,
   "id": "936d5d69",
   "metadata": {},
   "outputs": [],
   "source": [
    "#!pip install -q langchain\n",
    "#!pip install langchain_community\n",
    "#!pip install -U sentence-transformers\n",
    "\n",
    "print(\"\"\"\n",
    "This script performs the following steps:\n",
    "1. Reads text from a text file named 'LCD controller ST7066U.pdf'.\n",
    "2. Splits the extracted text into smaller chunks using `RecursiveCharacterTextSplitter`.\n",
    "3. Uses the `SentenceTransformerEmbeddings` model 'all-MiniLM-L6-v2' to create embeddings for each text chunk.\n",
    "4. Prompts the user to enter a search keyword.\n",
    "5. Creates an embedding for the user's keyword.\n",
    "6. Calculates the cosine similarity between the keyword embedding and all the document chunk embeddings.\n",
    "7. Identifies and prints the top 3 most similar document chunks along with their similarity scores.\n",
    "\"\"\")"
   ]
  }
 ],
 "metadata": {
  "language_info": {
   "name": "python"
  }
 },
 "nbformat": 4,
 "nbformat_minor": 5
}
