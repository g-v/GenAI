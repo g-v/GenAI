{
 "cells": [
  {
   "cell_type": "code",
   "execution_count": null,
   "id": "fb880e63",
   "metadata": {},
   "outputs": [],
   "source": [
    "#!pip install pypdf\n",
    "#!pip install -q langchain\n",
    "#!pip install langchain_community\n",
    "#!pip install -U sentence-transformers"
   ]
  },
  {
   "cell_type": "code",
   "execution_count": null,
   "id": "052b679c",
   "metadata": {},
   "outputs": [],
   "source": [
    "## Read pdf as text\n",
    "from pypdf import PdfReader\n",
    "reader = PdfReader('/content/LCD controller ST7066U.pdf')\n",
    "number_of_pages = len(reader.pages)\n",
    "all_text = \"\"  # Initialize an empty string to store text from all pages\n",
    "\n",
    "for page_num in range(number_of_pages):\n",
    "  page = reader.pages[page_num]\n",
    "  text = page.extract_text()\n",
    "  all_text += text  # Append text from the current page to the all_text string\n",
    "\n",
    "print(\"Text from all pages:\")\n",
    "print(all_text)"
   ]
  },
  {
   "cell_type": "code",
   "execution_count": null,
   "id": "e2b4488c",
   "metadata": {},
   "outputs": [],
   "source": [
    "from langchain.text_splitter import RecursiveCharacterTextSplitter\n",
    "\n",
    "# This is the text that we are going to split\n",
    "#with open('state_of_the_union.txt') as f:\n",
    "state_of_the_union = text\n",
    "\n",
    "text_splitter = RecursiveCharacterTextSplitter(\n",
    "    # Set a really small chunk size, just to show there's a limit\n",
    "    chunk_size=100,\n",
    "    chunk_overlap=20,\n",
    "    length_function=len,\n",
    ")\n",
    "\n",
    "texts = text_splitter.create_documents([state_of_the_union])\n",
    "print(texts[0].page_content)\n",
    "texts[1].page_content"
   ]
  }
 ],
 "metadata": {
  "language_info": {
   "name": "python"
  }
 },
 "nbformat": 4,
 "nbformat_minor": 5
}
