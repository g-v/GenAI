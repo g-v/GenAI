{
 "cells": [
  {
   "cell_type": "code",
   "execution_count": null,
   "id": "b031b9a9",
   "metadata": {},
   "outputs": [],
   "source": [
    "import numpy as np\n",
    "import pandas as pd\n",
    "import matplotlib.pyplot as plt\n",
    "\n",
    "from sklearn.model_selection import train_test_split\n",
    "from sklearn.preprocessing import StandardScaler, LabelEncoder\n",
    "from sklearn.neighbors import KNeighborsClassifier\n",
    "from sklearn.metrics import accuracy_score, classification_report\n",
    "from sklearn.metrics import r2_score, mean_absolute_error, mean_squared_error\n",
    "\n",
    "loan_data = pd.read_csv('/content/loan_data.csv')\n",
    "print(loan_data)\n",
    "\n",
    "hd = pd.DataFrame(loan_data, columns=['age', 'gender', 'income', 'exp', 'amnt', 'intent', 'int_rate', 'credit_score', 'defaults', 'loan_status'])\n",
    "\n",
    "##encode string data to number\n",
    "label_encoder = LabelEncoder()\n",
    "hd['gender_ec'] = label_encoder.fit_transform(hd['gender'])\n",
    "hd['intent_ec'] = label_encoder.fit_transform(hd['intent'])\n",
    "hd['defaults_ec'] = label_encoder.fit_transform(hd['defaults'])\n",
    "\n",
    "#remove NnN values, or model will give error\n",
    "hd = hd.dropna()\n",
    "\n",
    "##extract independent and dependent variable\n",
    "x = hd[['age', 'gender_ec', 'income', 'exp', 'amnt', 'intent_ec', 'int_rate', 'credit_score', 'defaults_ec']]\n",
    "y = hd[['loan_status']]"
   ]
  },
  {
   "cell_type": "code",
   "execution_count": null,
   "id": "f445c429",
   "metadata": {},
   "outputs": [],
   "source": [
    "# standardise the feature\n",
    "scalar_data = StandardScaler()\n",
    "x_scaled = scalar_data.fit_transform(x)\n",
    "\n",
    "#split train and test dataset\n",
    "x_train,x_test,y_train,y_test=train_test_split(x,y,test_size=0.25,random_state=42)"
   ]
  },
  {
   "cell_type": "code",
   "execution_count": null,
   "id": "89f23c8c",
   "metadata": {},
   "outputs": [],
   "source": [
    "##implement model\n",
    "knn = KNeighborsClassifier(n_neighbors=3)\n",
    "knn.fit(x_train,y_train)"
   ]
  },
  {
   "cell_type": "code",
   "execution_count": null,
   "id": "1aad1638",
   "metadata": {},
   "outputs": [],
   "source": [
    "#predict the model\n",
    "y_pred=knn.predict(x_test)\n",
    "\n",
    "#model accuracy\n",
    "acc = accuracy_score(y_test,y_pred)\n",
    "report = classification_report(y_test,y_pred)\n",
    "\n",
    "print(\"Accuracy:\",acc)\n",
    "print(\"Classification report\", report)"
   ]
  }
 ],
 "metadata": {
  "language_info": {
   "name": "python"
  }
 },
 "nbformat": 4,
 "nbformat_minor": 5
}
