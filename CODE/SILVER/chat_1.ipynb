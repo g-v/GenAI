{
 "cells": [
  {
   "cell_type": "code",
   "execution_count": null,
   "id": "945afc61",
   "metadata": {},
   "outputs": [],
   "source": [
    "#pip install langchain langchain-google-genai google-generativeai faiss-cpu python-dotenv tiktoken\n",
    "\n",
    "!pip install langchain langchain-google-genai google-generativeai faiss-cpu python-dotenv tiktoken langchain-community"
   ]
  },
  {
   "cell_type": "code",
   "execution_count": null,
   "id": "8f35752d",
   "metadata": {},
   "outputs": [],
   "source": [
    "import os\n",
    "from dotenv import load_dotenv\n",
    "\n",
    "from langchain_community.document_loaders import TextLoader\n",
    "from langchain_text_splitters import RecursiveCharacterTextSplitter\n",
    "from langchain_google_genai import GoogleGenerativeAIEmbeddings, ChatGoogleGenerativeAI\n",
    "from langchain_community.vectorstores import FAISS\n",
    "from langchain_core.prompts import ChatPromptTemplate\n",
    "from langchain_core.runnables import RunnablePassthrough\n",
    "from langchain_core.output_parsers import StrOutputParser\n",
    "import google.generativeai as genai # For configuring the API key globally\n"
   ]
  },
  {
   "cell_type": "code",
   "execution_count": null,
   "id": "50a0d401",
   "metadata": {},
   "outputs": [],
   "source": [
    "# --- 1. Load Environment Variables (API Key) ---\n",
    "# Assuming you have the necessary libraries for interacting with Gemini already installed\n",
    "from google.colab import auth\n",
    "#auth.authenticate_user()\n",
    "\n",
    "import google.generativeai as genai\n",
    "\n",
    "# Replace \"YOUR_API_KEY\" with your actual API key for Gemini\n",
    "genai.configure(api_key=\"your api key here\")"
   ]
  }
 ],
 "metadata": {
  "language_info": {
   "name": "python"
  }
 },
 "nbformat": 4,
 "nbformat_minor": 5
}
