{
 "cells": [
  {
   "cell_type": "code",
   "execution_count": null,
   "id": "531384d7",
   "metadata": {},
   "outputs": [],
   "source": [
    "import numpy as np\n",
    "import pandas as pd\n",
    "import matplotlib.pyplot as plt\n",
    "\n",
    "from sklearn.preprocessing import StandardScaler\n",
    "from sklearn.model_selection import train_test_split\n",
    "from sklearn.linear_model import LinearRegression\n",
    "from sklearn.preprocessing import LabelEncoder\n",
    "\n",
    "##read data from CSV\n",
    "house_data = pd.read_csv(\"/content/house_price.csv\")\n",
    "#print(house_data)\n",
    "df = pd.DataFrame(house_data, columns=['const', 'rera', 'bhk', 'sqft', 'move', 'resale', 'price'])\n",
    "print(df)\n",
    "#remove NnN values, or model will give error\n",
    "df = df.dropna() \n",
    "#x = df[['const', 'rera', 'bhk', 'sqft', 'move', 'resale']]\n",
    "x = df[['bhk', 'sqft', 'resale']]\n",
    "y = df[['price']]"
   ]
  },
  {
   "cell_type": "code",
   "execution_count": null,
   "id": "bd8b9f5e",
   "metadata": {},
   "outputs": [],
   "source": [
    "#split train and test dataset\n",
    "x_train,x_test,y_train,y_test=train_test_split(x,y,test_size=0.25,random_state=42)\n",
    "\n",
    "##implement linear model\n",
    "regression = LinearRegression()\n",
    "regression.fit(x_train, y_train)"
   ]
  },
  {
   "cell_type": "code",
   "execution_count": null,
   "id": "58fe584f",
   "metadata": {},
   "outputs": [],
   "source": [
    "## Predict on the test data\n",
    "y_pred = regression.predict(x_test)\n",
    "\n",
    "# Evaluate the model\n",
    "from sklearn.metrics import mean_squared_error, r2_score, mean_absolute_error\n",
    "err_mse = mean_squared_error(y_test, y_pred)\n",
    "err_mae = mean_absolute_error(y_test, y_pred)\n",
    "r2 = r2_score(y_test, y_pred)\n",
    "print(\"Mean Squared Error:\", err_mse)\n",
    "print(\"Mean Absolute Error:\", err_mae)\n",
    "print(\"R-squared:\", r2)\n",
    "\n",
    "#target\n",
    "#rmse 70 to 150\n",
    "#mae 50 to 100\n",
    "#mse 5000 to 20000"
   ]
  },
  {
   "cell_type": "code",
   "execution_count": null,
   "id": "af7f1a69",
   "metadata": {},
   "outputs": [],
   "source": [
    "# Create a figure and a set of subplots\n",
    "fig, axes = plt.subplots(nrows=2, ncols=2, figsize=(10, 8)) #fig size is size of plot in inches\n",
    "\n",
    "# Plot data on the subplots\n",
    "axes[0, 0].plot(x.iloc[:,0], y, 'r.') #'r.' print scatter and 'r--' plot line\n",
    "axes[0, 0].set_title('bhk vs price')\n",
    "axes[0, 1].plot(x.iloc[:,1], y, 'g.')\n",
    "axes[0, 1].set_title('sqft vs price')\n",
    "axes[1, 0].plot(x.iloc[:,2], y, 'b.')\n",
    "axes[1, 0].set_title('resale vs price')\n",
    "axes[1, 1].plot(x_test.iloc[:,2], y_pred, 'y.')\n",
    "axes[1, 1].set_title('Output')\n",
    "\n",
    "# Adjust layout for better spacing\n",
    "plt.tight_layout()\n",
    "\n",
    "# Show the plot\n",
    "plt.show()"
   ]
  }
 ],
 "metadata": {
  "language_info": {
   "name": "python"
  }
 },
 "nbformat": 4,
 "nbformat_minor": 5
}
