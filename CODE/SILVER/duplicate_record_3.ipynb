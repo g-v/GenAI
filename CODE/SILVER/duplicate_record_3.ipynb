{
 "cells": [
  {
   "cell_type": "code",
   "execution_count": null,
   "id": "d816f614",
   "metadata": {},
   "outputs": [],
   "source": [
    "import numpy as np\n",
    "import pandas as pd\n",
    "\n",
    "##read data from CSV\n",
    "csv_data = pd.read_csv(\"/content/house_price.csv\")\n",
    "#print(csv_data)"
   ]
  },
  {
   "cell_type": "code",
   "execution_count": null,
   "id": "66db52bf",
   "metadata": {},
   "outputs": [],
   "source": [
    "#parse first value from file \n",
    "dup_index = []\n",
    "\n",
    "for i in range(0, len(csv_data)):\n",
    "    ##read first row \n",
    "    row = csv_data.iloc[i]\n",
    "    #print(row)\n",
    "    for j in range(i + 1, len(csv_data)):\n",
    "        if row.equals(csv_data.iloc[j]):\n",
    "            print(f\"dup_ent \\n {csv_data.iloc[j]}\")\n",
    "            dup_index.append(j)\n",
    "\n",
    "print(dup_index)\n",
    "csv_data = csv_data.drop(index=dup_index)\n",
    "##create new csv from the modified DataFrame\n",
    "csv_data.to_csv(\"/content/modified_house_price.csv\", index=False)\n"
   ]
  }
 ],
 "metadata": {
  "language_info": {
   "name": "python"
  }
 },
 "nbformat": 4,
 "nbformat_minor": 5
}
