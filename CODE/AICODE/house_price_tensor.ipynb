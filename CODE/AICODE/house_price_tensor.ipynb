{
 "cells": [
  {
   "cell_type": "code",
   "execution_count": null,
   "id": "48104d2e-0188-4084-901c-09e713676e4f",
   "metadata": {},
   "outputs": [],
   "source": [
    "import tensorflow as tf\n",
    "print(\"TensorFlow version:\", tf.__version__)"
   ]
  },
  {
   "cell_type": "code",
   "execution_count": 2,
   "id": "28716d0d-b733-4844-a7af-1f67f5d277b6",
   "metadata": {},
   "outputs": [],
   "source": [
    "import numpy as np\n",
    "import pandas as pd\n",
    "import tensorflow as tf\n",
    "from tensorflow.keras.models import Sequential\n",
    "from tensorflow.keras.layers import Dense\n",
    "from sklearn.model_selection import train_test_split\n",
    "from sklearn.preprocessing import StandardScaler"
   ]
  },
  {
   "cell_type": "code",
   "execution_count": null,
   "id": "efeab121-8c65-447a-b13e-05436b80d588",
   "metadata": {},
   "outputs": [],
   "source": [
    "\n",
    "data = pd.read_csv('readme.txt')\n",
    "print(data)"
   ]
  },
  {
   "cell_type": "code",
   "execution_count": null,
   "id": "c2ebf046-cc5d-4dff-87c8-5a92a42b6d4b",
   "metadata": {
    "scrolled": true
   },
   "outputs": [],
   "source": [
    "# Separate features (X) and labels (y)\n",
    "X = data.iloc[:, :-1].values  # All columns except the last one are features\n",
    "y = data.iloc[:, -1].values   # The last column is the target \n",
    "\n",
    "# Split the dataset into training and test sets (80% train, 20% test)\n",
    "X_train, X_test, y_train, y_test = train_test_split(X, y, test_size=0.2, random_state=42)\n",
    "print(X_train)\n",
    "\n",
    "# Standardize the data (important for neural networks)\n",
    "scaler = StandardScaler()\n",
    "X_train = scaler.fit_transform(X_train)\n",
    "X_test = scaler.transform(X_test)\n",
    "print(X_train)"
   ]
  },
  {
   "cell_type": "code",
   "execution_count": null,
   "id": "0dc06ef6-31ae-4eff-8d02-49ab1d3c91e1",
   "metadata": {},
   "outputs": [],
   "source": [
    "# Build the neural network model\n",
    "model = Sequential()\n",
    "\n",
    "# Adding layers\n",
    "model.add(Dense(2, input_dim=2, activation='linear'))  # First hidden layer with 16 neurons, input size is 8 features\n",
    "model.add(Dense(3, activation='relu'))               # Second hidden layer with 12 neurons\n",
    "model.add(Dense(1, activation='linear'))             # Output layer with 1 neuron (for binary classification)\n",
    "\n",
    "# Compile the model\n",
    "model.compile(optimizer='adam', loss='mean_absolute_error', metrics=['accuracy'])\n",
    "\n",
    "# Train the model\n",
    "model.fit(X_train, y_train, epochs=10, batch_size=2, validation_data=(X_test, y_test))"
   ]
  },
  {
   "cell_type": "code",
   "execution_count": null,
   "id": "995bc388-b8e3-4069-9726-f3b31979da5e",
   "metadata": {},
   "outputs": [],
   "source": [
    "# Evaluate the model\n",
    "loss, accuracy = model.evaluate(X_test, y_test)\n",
    "print(f\"Test Accuracy: {accuracy*100:.2f}%\")\n",
    "\n",
    "# Predict diabetes for new samples (3 new patients)\n",
    "samples = np.array([[1268,3],   # Sample 1 1268,3,259900\n",
    "                    [3031,4],    # Sample 2 3031,4,599000\n",
    "                    [1604,3]])   # Sample 3 1604,3,242900\n",
    "\n",
    "# Standardize the new data using the same scaler\n",
    "samples_scaled = scaler.transform(samples)"
   ]
  },
  {
   "cell_type": "code",
   "execution_count": null,
   "id": "0be67e72-853b-406c-9503-c6a457942fab",
   "metadata": {},
   "outputs": [],
   "source": [
    "# Predict diabetes (returns probabilities)\n",
    "predictions = model.predict(samples_scaled)\n",
    "\n",
    "# Convert probabilities to class labels (0 or 1)\n",
    "predicted_classes = (predictions > 0.5).astype(int)\n",
    "\n",
    "# Output predictions\n",
    "print(\"Predictions for the samples (0 = No Diabetes, 1 = Diabetes):\")\n",
    "print(predicted_classes.flatten())"
   ]
  },
  {
   "cell_type": "code",
   "execution_count": null,
   "id": "4237b784-b2d9-4ec0-ae50-a37137e7b6a7",
   "metadata": {},
   "outputs": [],
   "source": []
  }
 ],
 "metadata": {
  "kernelspec": {
   "display_name": "Python 3 (ipykernel)",
   "language": "python",
   "name": "python3"
  },
  "language_info": {
   "codemirror_mode": {
    "name": "ipython",
    "version": 3
   },
   "file_extension": ".py",
   "mimetype": "text/x-python",
   "name": "python",
   "nbconvert_exporter": "python",
   "pygments_lexer": "ipython3",
   "version": "3.11.9"
  }
 },
 "nbformat": 4,
 "nbformat_minor": 5
}
